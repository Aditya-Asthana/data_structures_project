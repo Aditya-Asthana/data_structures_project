{
 "cells": [
  {
   "cell_type": "code",
   "execution_count": 2,
   "id": "e0e0ab97",
   "metadata": {},
   "outputs": [],
   "source": [
    "import pandas as pd"
   ]
  },
  {
   "cell_type": "code",
   "execution_count": 6,
   "id": "f29d5871",
   "metadata": {},
   "outputs": [],
   "source": [
    "df = pd.read_csv(\"Point_Of_Interest.csv\")\n",
    "\n",
    "#df.head(20)\n",
    "\n",
    "#delete irrelevant information\n",
    "del df[\"COMPLEXID\"]\n",
    "del df[\"SAFTYPE\"]\n",
    "del df[\"SOS\"]\n",
    "del df[\"FACI_DOM\"]\n",
    "del df[\"BIN\"]\n",
    "del df[\"BOROUGH\"]\n",
    "del df[\"CREATED\"]\n",
    "del df[\"MODIFIED\"]\n",
    "del df[\"FACILITY_T\"]\n",
    "del df[\"SOURCE\"]\n",
    "del df[\"B7SC\"]\n",
    "del df[\"PRI_ADD\"]\n",
    "del df[\"SEGMENTID\"]\n",
    "del df[\"PLACEID\"]\n",
    "\n",
    "\n",
    "df = df.sort_values(by=[\"NAME\"]) #sort name in ascending order to help with grouping\n",
    "\n",
    "mapping = df.groupby('NAME')['the_geom'].apply(list)\n",
    "from collections import OrderedDict, defaultdict\n",
    "\n",
    "o_d = mapping.to_dict(OrderedDict)\n",
    "o_d = dict(o_d)"
   ]
  },
  {
   "cell_type": "code",
   "execution_count": 7,
   "id": "c14df2ee",
   "metadata": {},
   "outputs": [
    {
     "data": {
      "text/html": [
       "<div>\n",
       "<style scoped>\n",
       "    .dataframe tbody tr th:only-of-type {\n",
       "        vertical-align: middle;\n",
       "    }\n",
       "\n",
       "    .dataframe tbody tr th {\n",
       "        vertical-align: top;\n",
       "    }\n",
       "\n",
       "    .dataframe thead th {\n",
       "        text-align: right;\n",
       "    }\n",
       "</style>\n",
       "<table border=\"1\" class=\"dataframe\">\n",
       "  <thead>\n",
       "    <tr style=\"text-align: right;\">\n",
       "      <th></th>\n",
       "      <th>the_geom</th>\n",
       "      <th>NAME</th>\n",
       "    </tr>\n",
       "  </thead>\n",
       "  <tbody>\n",
       "    <tr>\n",
       "      <th>4078</th>\n",
       "      <td>POINT (-73.98606587353645 40.757826351422054)</td>\n",
       "      <td>1 ASTOR PLAZA</td>\n",
       "    </tr>\n",
       "    <tr>\n",
       "      <th>17416</th>\n",
       "      <td>POINT (-73.9514269093981 40.766481786557904)</td>\n",
       "      <td>1 EAST RIVER PLACE</td>\n",
       "    </tr>\n",
       "    <tr>\n",
       "      <th>2261</th>\n",
       "      <td>POINT (-73.86440957253046 40.73471518658648)</td>\n",
       "      <td>1 LEFRAK CITY PLAZA</td>\n",
       "    </tr>\n",
       "    <tr>\n",
       "      <th>7004</th>\n",
       "      <td>POINT (-74.00706295800028 40.72035092811359)</td>\n",
       "      <td>1 PRECINCT</td>\n",
       "    </tr>\n",
       "    <tr>\n",
       "      <th>17131</th>\n",
       "      <td>POINT (-74.01555627730625 40.705818063302274)</td>\n",
       "      <td>1 WESTERN UNION INTERNATIONAL PLAZA</td>\n",
       "    </tr>\n",
       "    <tr>\n",
       "      <th>...</th>\n",
       "      <td>...</td>\n",
       "      <td>...</td>\n",
       "    </tr>\n",
       "    <tr>\n",
       "      <th>17825</th>\n",
       "      <td>POINT (-73.9709059939911 40.69218961034549)</td>\n",
       "      <td>ZION SHILOH BAPTIST CHURCH</td>\n",
       "    </tr>\n",
       "    <tr>\n",
       "      <th>12403</th>\n",
       "      <td>POINT (-73.95108825031808 40.77607128275501)</td>\n",
       "      <td>ZION ST MARKS EVANGELICAL LUTHERAN CHURCH</td>\n",
       "    </tr>\n",
       "    <tr>\n",
       "      <th>5761</th>\n",
       "      <td>POINT (-73.91873291322032 40.66867060768038)</td>\n",
       "      <td>ZION TRIANGLE</td>\n",
       "    </tr>\n",
       "    <tr>\n",
       "      <th>78</th>\n",
       "      <td>POINT (-73.84672248558252 40.74375556932703)</td>\n",
       "      <td>ZOO</td>\n",
       "    </tr>\n",
       "    <tr>\n",
       "      <th>16508</th>\n",
       "      <td>POINT (-73.9418481257561 40.6187037665084)</td>\n",
       "      <td>ZVI DOV ROTH ACADEMY OF YESHIVA RAMBAM</td>\n",
       "    </tr>\n",
       "  </tbody>\n",
       "</table>\n",
       "<p>20558 rows × 2 columns</p>\n",
       "</div>"
      ],
      "text/plain": [
       "                                            the_geom  \\\n",
       "4078   POINT (-73.98606587353645 40.757826351422054)   \n",
       "17416   POINT (-73.9514269093981 40.766481786557904)   \n",
       "2261    POINT (-73.86440957253046 40.73471518658648)   \n",
       "7004    POINT (-74.00706295800028 40.72035092811359)   \n",
       "17131  POINT (-74.01555627730625 40.705818063302274)   \n",
       "...                                              ...   \n",
       "17825    POINT (-73.9709059939911 40.69218961034549)   \n",
       "12403   POINT (-73.95108825031808 40.77607128275501)   \n",
       "5761    POINT (-73.91873291322032 40.66867060768038)   \n",
       "78      POINT (-73.84672248558252 40.74375556932703)   \n",
       "16508     POINT (-73.9418481257561 40.6187037665084)   \n",
       "\n",
       "                                            NAME  \n",
       "4078                               1 ASTOR PLAZA  \n",
       "17416                         1 EAST RIVER PLACE  \n",
       "2261                         1 LEFRAK CITY PLAZA  \n",
       "7004                                  1 PRECINCT  \n",
       "17131        1 WESTERN UNION INTERNATIONAL PLAZA  \n",
       "...                                          ...  \n",
       "17825                 ZION SHILOH BAPTIST CHURCH  \n",
       "12403  ZION ST MARKS EVANGELICAL LUTHERAN CHURCH  \n",
       "5761                               ZION TRIANGLE  \n",
       "78                                           ZOO  \n",
       "16508     ZVI DOV ROTH ACADEMY OF YESHIVA RAMBAM  \n",
       "\n",
       "[20558 rows x 2 columns]"
      ]
     },
     "execution_count": 7,
     "metadata": {},
     "output_type": "execute_result"
    }
   ],
   "source": [
    "df"
   ]
  },
  {
   "cell_type": "code",
   "execution_count": 8,
   "id": "64c7dc9b",
   "metadata": {},
   "outputs": [],
   "source": [
    "df.to_csv('POI_Parsed.csv')"
   ]
  },
  {
   "cell_type": "code",
   "execution_count": 9,
   "id": "1cde6205",
   "metadata": {},
   "outputs": [
    {
     "name": "stdout",
     "output_type": "stream",
     "text": [
      "1 ASTOR PLAZA should be (-73.9860659, 40.7578264):\n",
      "['POINT (-73.98606587353645 40.757826351422054)']\n",
      "\n",
      "86 ST OVER NYCT SEA BEACH LINE should be (-73.9782248, 40.5924850):\n",
      "['POINT (-73.97822476024018 40.59248504967273)']\n",
      "\n",
      "ARLINGTON MARSH PARK should be (-74.1747924, 40.6429669):\n",
      "['POINT (-74.17479237772189 40.642966911097076)']\n"
     ]
    }
   ],
   "source": [
    "#test cases:\n",
    "#searched up coordinates online to check\n",
    "print('1 ASTOR PLAZA should be (-73.9860659, 40.7578264):')\n",
    "print(o_d['1 ASTOR PLAZA'])\n",
    "\n",
    "print()\n",
    "\n",
    "print('86 ST OVER NYCT SEA BEACH LINE should be (-73.9782248, 40.5924850):')\n",
    "print(o_d['86 ST OVER NYCT SEA BEACH LINE'])\n",
    "\n",
    "print()\n",
    "\n",
    "print('ARLINGTON MARSH PARK should be (-74.1747924, 40.6429669):')\n",
    "print(o_d['ARLINGTON MARSH PARK'])"
   ]
  },
  {
   "cell_type": "code",
   "execution_count": null,
   "id": "01fe55b1",
   "metadata": {},
   "outputs": [],
   "source": []
  }
 ],
 "metadata": {
  "kernelspec": {
   "display_name": "Python 3",
   "language": "python",
   "name": "python3"
  },
  "language_info": {
   "codemirror_mode": {
    "name": "ipython",
    "version": 3
   },
   "file_extension": ".py",
   "mimetype": "text/x-python",
   "name": "python",
   "nbconvert_exporter": "python",
   "pygments_lexer": "ipython3",
   "version": "3.8.8"
  }
 },
 "nbformat": 4,
 "nbformat_minor": 5
}
