{
 "cells": [
  {
   "cell_type": "code",
   "execution_count": 3,
   "id": "e0e0ab97",
   "metadata": {},
   "outputs": [],
   "source": [
    "import pandas as pd"
   ]
  },
  {
   "cell_type": "code",
   "execution_count": 4,
   "id": "f29d5871",
   "metadata": {},
   "outputs": [],
   "source": [
    "df = pd.read_csv(\"Point_Of_Interest.csv\")\n",
    "\n",
    "#df.head(20)\n",
    "\n",
    "#delete irrelevant information\n",
    "del df[\"COMPLEXID\"]\n",
    "del df[\"SAFTYPE\"]\n",
    "del df[\"SOS\"]\n",
    "del df[\"FACI_DOM\"]\n",
    "del df[\"BIN\"]\n",
    "del df[\"BOROUGH\"]\n",
    "del df[\"CREATED\"]\n",
    "del df[\"MODIFIED\"]\n",
    "del df[\"FACILITY_T\"]\n",
    "del df[\"SOURCE\"]\n",
    "del df[\"B7SC\"]\n",
    "del df[\"PRI_ADD\"]\n",
    "\n",
    "df = df.sort_values(by=[\"NAME\"]) #sort name in ascending order to help with grouping\n",
    "\n",
    "mapping = df.groupby('NAME')['the_geom'].apply(list)\n",
    "from collections import OrderedDict, defaultdict\n",
    "\n",
    "o_d = mapping.to_dict(OrderedDict)\n",
    "o_d = dict(o_d)"
   ]
  },
  {
   "cell_type": "code",
   "execution_count": 5,
   "id": "64c7dc9b",
   "metadata": {},
   "outputs": [],
   "source": [
    "df.to_csv('POI_Parsed')"
   ]
  },
  {
   "cell_type": "code",
   "execution_count": 4,
   "id": "1cde6205",
   "metadata": {},
   "outputs": [
    {
     "name": "stdout",
     "output_type": "stream",
     "text": [
      "1 ASTOR PLAZA should be (-73.9860659, 40.7578264):\n",
      "['POINT (-73.98606587353645 40.757826351422054)']\n",
      "\n",
      "86 ST OVER NYCT SEA BEACH LINE should be (-73.9782248, 40.5924850):\n",
      "['POINT (-73.97822476024018 40.59248504967273)']\n",
      "\n",
      "ARLINGTON MARSH PARK should be (-74.1747924, 40.6429669):\n",
      "['POINT (-74.17479237772189 40.642966911097076)']\n"
     ]
    }
   ],
   "source": [
    "#test cases:\n",
    "#searched up coordinates online to check\n",
    "print('1 ASTOR PLAZA should be (-73.9860659, 40.7578264):')\n",
    "print(o_d['1 ASTOR PLAZA'])\n",
    "\n",
    "print()\n",
    "\n",
    "print('86 ST OVER NYCT SEA BEACH LINE should be (-73.9782248, 40.5924850):')\n",
    "print(o_d['86 ST OVER NYCT SEA BEACH LINE'])\n",
    "\n",
    "print()\n",
    "\n",
    "print('ARLINGTON MARSH PARK should be (-74.1747924, 40.6429669):')\n",
    "print(o_d['ARLINGTON MARSH PARK'])"
   ]
  },
  {
   "cell_type": "code",
   "execution_count": null,
   "id": "01fe55b1",
   "metadata": {},
   "outputs": [],
   "source": []
  }
 ],
 "metadata": {
  "kernelspec": {
   "display_name": "Python 3",
   "language": "python",
   "name": "python3"
  },
  "language_info": {
   "codemirror_mode": {
    "name": "ipython",
    "version": 3
   },
   "file_extension": ".py",
   "mimetype": "text/x-python",
   "name": "python",
   "nbconvert_exporter": "python",
   "pygments_lexer": "ipython3",
   "version": "3.8.8"
  }
 },
 "nbformat": 4,
 "nbformat_minor": 5
}
