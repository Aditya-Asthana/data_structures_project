{
 "cells": [
  {
   "cell_type": "code",
   "execution_count": 15,
   "id": "e0e0ab97",
   "metadata": {},
   "outputs": [],
   "source": [
    "import pandas as pd"
   ]
  },
  {
   "cell_type": "code",
   "execution_count": 16,
   "id": "f29d5871",
   "metadata": {},
   "outputs": [],
   "source": [
    "df = pd.read_csv(\"Point_Of_Interest.csv\")\n",
    "\n",
    "#df.head(20)\n",
    "\n",
    "#delete irrelevant information\n",
    "del df[\"COMPLEXID\"]\n",
    "del df[\"SAFTYPE\"]\n",
    "del df[\"SOS\"]\n",
    "del df[\"FACI_DOM\"]\n",
    "del df[\"BIN\"]\n",
    "del df[\"BOROUGH\"]\n",
    "del df[\"CREATED\"]\n",
    "del df[\"MODIFIED\"]\n",
    "del df[\"FACILITY_T\"]\n",
    "del df[\"SOURCE\"]\n",
    "del df[\"B7SC\"]\n",
    "del df[\"PRI_ADD\"]\n",
    "\n",
    "df = df.sort_values(by=[\"NAME\"]) #sort name in ascending order to help with grouping\n",
    "\n",
    "mapping = df.groupby('NAME')['the_geom'].apply(list)\n",
    "from collections import OrderedDict, defaultdict\n",
    "\n",
    "o_d = mapping.to_dict(OrderedDict)\n",
    "o_d = dict(o_d)"
   ]
  },
  {
   "cell_type": "code",
   "execution_count": null,
   "id": "1cde6205",
   "metadata": {},
   "outputs": [],
   "source": []
  }
 ],
 "metadata": {
  "kernelspec": {
   "display_name": "Python 3",
   "language": "python",
   "name": "python3"
  },
  "language_info": {
   "codemirror_mode": {
    "name": "ipython",
    "version": 3
   },
   "file_extension": ".py",
   "mimetype": "text/x-python",
   "name": "python",
   "nbconvert_exporter": "python",
   "pygments_lexer": "ipython3",
   "version": "3.8.8"
  }
 },
 "nbformat": 4,
 "nbformat_minor": 5
}
