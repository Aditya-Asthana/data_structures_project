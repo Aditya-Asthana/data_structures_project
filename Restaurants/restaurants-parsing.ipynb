{
 "cells": [
  {
   "cell_type": "code",
   "execution_count": 1,
   "metadata": {},
   "outputs": [],
   "source": [
    "import pandas as pd"
   ]
  },
  {
   "cell_type": "code",
   "execution_count": 45,
   "metadata": {},
   "outputs": [
    {
     "data": {
      "text/html": [
       "<div>\n",
       "<style scoped>\n",
       "    .dataframe tbody tr th:only-of-type {\n",
       "        vertical-align: middle;\n",
       "    }\n",
       "\n",
       "    .dataframe tbody tr th {\n",
       "        vertical-align: top;\n",
       "    }\n",
       "\n",
       "    .dataframe thead th {\n",
       "        text-align: right;\n",
       "    }\n",
       "</style>\n",
       "<table border=\"1\" class=\"dataframe\">\n",
       "  <thead>\n",
       "    <tr style=\"text-align: right;\">\n",
       "      <th></th>\n",
       "      <th>DBA</th>\n",
       "      <th>BORO</th>\n",
       "      <th>STREET</th>\n",
       "      <th>ZIPCODE</th>\n",
       "    </tr>\n",
       "  </thead>\n",
       "  <tbody>\n",
       "    <tr>\n",
       "      <th>2670</th>\n",
       "      <td>SPEEDY'S DELI</td>\n",
       "      <td>Manhattan</td>\n",
       "      <td>BROADWAY</td>\n",
       "      <td>10001.0</td>\n",
       "    </tr>\n",
       "    <tr>\n",
       "      <th>14992</th>\n",
       "      <td>CAJUN SEA</td>\n",
       "      <td>Manhattan</td>\n",
       "      <td>WEST   33 STREET</td>\n",
       "      <td>10001.0</td>\n",
       "    </tr>\n",
       "    <tr>\n",
       "      <th>34799</th>\n",
       "      <td>GOPCHANG STORY NY</td>\n",
       "      <td>Manhattan</td>\n",
       "      <td>5 AVENUE</td>\n",
       "      <td>10001.0</td>\n",
       "    </tr>\n",
       "    <tr>\n",
       "      <th>26360</th>\n",
       "      <td>HAMPTON INN-HERALD SQUARE</td>\n",
       "      <td>Manhattan</td>\n",
       "      <td>WEST   31 STREET</td>\n",
       "      <td>10001.0</td>\n",
       "    </tr>\n",
       "    <tr>\n",
       "      <th>34811</th>\n",
       "      <td>JUST SALAD</td>\n",
       "      <td>Manhattan</td>\n",
       "      <td>WEST   34 STREET</td>\n",
       "      <td>10001.0</td>\n",
       "    </tr>\n",
       "    <tr>\n",
       "      <th>...</th>\n",
       "      <td>...</td>\n",
       "      <td>...</td>\n",
       "      <td>...</td>\n",
       "      <td>...</td>\n",
       "    </tr>\n",
       "    <tr>\n",
       "      <th>35479</th>\n",
       "      <td>THE BAYHOUSE</td>\n",
       "      <td>Queens</td>\n",
       "      <td>BAYSIDE DRIVE</td>\n",
       "      <td>11697.0</td>\n",
       "    </tr>\n",
       "    <tr>\n",
       "      <th>3198</th>\n",
       "      <td>KENNEDY'S RESTAURANT</td>\n",
       "      <td>Queens</td>\n",
       "      <td>BAYSIDE</td>\n",
       "      <td>11697.0</td>\n",
       "    </tr>\n",
       "    <tr>\n",
       "      <th>284</th>\n",
       "      <td>CHIPOTLE MEXICAN GRILL #3056</td>\n",
       "      <td>0</td>\n",
       "      <td>MORIAH RD</td>\n",
       "      <td>12077.0</td>\n",
       "    </tr>\n",
       "    <tr>\n",
       "      <th>8447</th>\n",
       "      <td>ALIBI LOUNGE</td>\n",
       "      <td>Manhattan</td>\n",
       "      <td>A C POWELL BOULEVARD</td>\n",
       "      <td>12345.0</td>\n",
       "    </tr>\n",
       "    <tr>\n",
       "      <th>17714</th>\n",
       "      <td>CHIPOTLE MEXICAN GRILL #3056</td>\n",
       "      <td>0</td>\n",
       "      <td>NIAGARA FALLS BLVD</td>\n",
       "      <td>14228.0</td>\n",
       "    </tr>\n",
       "  </tbody>\n",
       "</table>\n",
       "<p>25712 rows × 4 columns</p>\n",
       "</div>"
      ],
      "text/plain": [
       "                                DBA       BORO                STREET  ZIPCODE\n",
       "2670                  SPEEDY'S DELI  Manhattan              BROADWAY  10001.0\n",
       "14992                     CAJUN SEA  Manhattan      WEST   33 STREET  10001.0\n",
       "34799             GOPCHANG STORY NY  Manhattan              5 AVENUE  10001.0\n",
       "26360     HAMPTON INN-HERALD SQUARE  Manhattan      WEST   31 STREET  10001.0\n",
       "34811                    JUST SALAD  Manhattan      WEST   34 STREET  10001.0\n",
       "...                             ...        ...                   ...      ...\n",
       "35479                  THE BAYHOUSE     Queens         BAYSIDE DRIVE  11697.0\n",
       "3198           KENNEDY'S RESTAURANT     Queens               BAYSIDE  11697.0\n",
       "284    CHIPOTLE MEXICAN GRILL #3056          0             MORIAH RD  12077.0\n",
       "8447                   ALIBI LOUNGE  Manhattan  A C POWELL BOULEVARD  12345.0\n",
       "17714  CHIPOTLE MEXICAN GRILL #3056          0    NIAGARA FALLS BLVD  14228.0\n",
       "\n",
       "[25712 rows x 4 columns]"
      ]
     },
     "execution_count": 45,
     "metadata": {},
     "output_type": "execute_result"
    }
   ],
   "source": [
    "df = pd.read_csv(\"Users/premdhoot/Desktop/restaurant_data_set_2.csv\")\n",
    "\n",
    "#delete irrelevant information\n",
    "del df[\"CAMIS\"]\n",
    "del df[\"INSPECTION DATE\"]\n",
    "del df[\"VIOLATION CODE\"]\n",
    "del df[\"VIOLATION DESCRIPTION\"]\n",
    "del df[\"GRADE\"]\n",
    "\n",
    "\n",
    "df.dropna(inplace=True) #remove rows with null values\n",
    "df = df.drop_duplicates() #drop any duplicate values\n",
    "df = df.sort_values(by=[\"ZIPCODE\"]) #sort zipcode in ascending order to help with grouping\n",
    "\n",
    "mapping = df.groupby('ZIPCODE')['DBA'].apply(list)\n",
    "from collections import OrderedDict, defaultdict\n",
    "\n",
    "o_d = mapping.to_dict(OrderedDict)\n",
    "o_d = dict(o_d)\n",
    "\n",
    "# mapping = dataframe with zipcode and a list of all restaurants in that zipcode\n",
    "# df = master dataframe with all the filtered and relevant information\n",
    "# o_d = dictionary structured {zipcode : [restaurants]}\n",
    "\n"
   ]
  },
  {
   "cell_type": "code",
   "execution_count": 1,
   "metadata": {},
   "outputs": [
    {
     "ename": "NameError",
     "evalue": "name 'mapping' is not defined",
     "output_type": "error",
     "traceback": [
      "\u001b[0;31m---------------------------------------------------------------------------\u001b[0m",
      "\u001b[0;31mNameError\u001b[0m                                 Traceback (most recent call last)",
      "\u001b[0;32m<ipython-input-1-9afc2ec96d09>\u001b[0m in \u001b[0;36m<module>\u001b[0;34m\u001b[0m\n\u001b[0;32m----> 1\u001b[0;31m \u001b[0mprint\u001b[0m\u001b[0;34m(\u001b[0m\u001b[0mmapping\u001b[0m\u001b[0;34m)\u001b[0m\u001b[0;34m\u001b[0m\u001b[0;34m\u001b[0m\u001b[0m\n\u001b[0m",
      "\u001b[0;31mNameError\u001b[0m: name 'mapping' is not defined"
     ]
    }
   ],
   "source": []
  },
  {
   "cell_type": "code",
   "execution_count": null,
   "metadata": {},
   "outputs": [],
   "source": []
  }
 ],
 "metadata": {
  "kernelspec": {
   "display_name": "Python 3",
   "language": "python",
   "name": "python3"
  },
  "language_info": {
   "codemirror_mode": {
    "name": "ipython",
    "version": 3
   },
   "file_extension": ".py",
   "mimetype": "text/x-python",
   "name": "python",
   "nbconvert_exporter": "python",
   "pygments_lexer": "ipython3",
   "version": "3.8.8"
  },
  "vscode": {
   "interpreter": {
    "hash": "4252caff39c6c0a39ad1f9a33402e67a5fdcfb9085071e3cd94a2a7666225d05"
   }
  }
 },
 "nbformat": 4,
 "nbformat_minor": 2
}
